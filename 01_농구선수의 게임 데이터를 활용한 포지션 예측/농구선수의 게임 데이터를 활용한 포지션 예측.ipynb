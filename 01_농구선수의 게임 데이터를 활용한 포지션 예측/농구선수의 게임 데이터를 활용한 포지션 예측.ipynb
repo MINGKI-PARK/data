{
 "cells": [
  {
   "cell_type": "markdown",
   "metadata": {},
   "source": [
    "# 농구선수의 게임 데이터를 활용한 포지션 예측"
   ]
  },
  {
   "cell_type": "markdown",
   "metadata": {
    "toc": true
   },
   "source": [
    "<h1>Table of Contents<span class=\"tocSkip\"></span></h1>\n",
    "<div class=\"toc\"><ul class=\"toc-item\"><li><span><a href=\"#문제-정의\" data-toc-modified-id=\"문제-정의-1\"><span class=\"toc-item-num\">1&nbsp;&nbsp;</span>문제 정의</a></span></li><li><span><a href=\"#데이터-가져오기\" data-toc-modified-id=\"데이터-가져오기-2\"><span class=\"toc-item-num\">2&nbsp;&nbsp;</span>데이터 가져오기</a></span></li><li><span><a href=\"#데이터-시각화\" data-toc-modified-id=\"데이터-시각화-3\"><span class=\"toc-item-num\">3&nbsp;&nbsp;</span>데이터 시각화</a></span></li><li><span><a href=\"#데이터-다듬기\" data-toc-modified-id=\"데이터-다듬기-4\"><span class=\"toc-item-num\">4&nbsp;&nbsp;</span>데이터 다듬기</a></span></li><li><span><a href=\"#데이터-나누기\" data-toc-modified-id=\"데이터-나누기-5\"><span class=\"toc-item-num\">5&nbsp;&nbsp;</span>데이터 나누기</a></span></li><li><span><a href=\"#최적의-kNN-파라미터-찾기\" data-toc-modified-id=\"최적의-kNN-파라미터-찾기-6\"><span class=\"toc-item-num\">6&nbsp;&nbsp;</span>최적의 kNN 파라미터 찾기</a></span></li><li><span><a href=\"#모델-테스트\" data-toc-modified-id=\"모델-테스트-7\"><span class=\"toc-item-num\">7&nbsp;&nbsp;</span>모델 테스트</a></span></li></ul></div>"
   ]
  },
  {
   "cell_type": "markdown",
   "metadata": {},
   "source": [
    "## 문제 정의\n",
    "\n",
    "NBA 농구선수들의 게임 기록을 데이터로 사용해서 특정 농구선수의 포지션을 예측해보자."
   ]
  },
  {
   "cell_type": "markdown",
   "metadata": {},
   "source": [
    "## 데이터 가져오기\n",
    "\n",
    "2017년 NBA 농구선수의 실제 데이터를 사용한다. 데이터는 2017년도 NBA 선수 게임 통계에서 수집했다.\n",
    "\n",
    "+ https://www.basketball-reference.com/leagues/NBA_2017_per_game.html"
   ]
  },
  {
   "cell_type": "code",
   "execution_count": 1,
   "metadata": {
    "ExecuteTime": {
     "end_time": "2021-01-04T11:55:51.846500Z",
     "start_time": "2021-01-04T11:55:49.987522Z"
    }
   },
   "outputs": [],
   "source": [
    "import pandas as pd\n",
    "\n",
    "import matplotlib.pyplot as plt\n",
    "import seaborn as sns\n",
    "%matplotlib inline\n",
    "\n",
    "# 사이킷런의 train_test_split을 사용하면 코드 한 줄로 손쉽게 데이터를 나눌 수 있다.\n",
    "from sklearn.model_selection import train_test_split\n",
    "\n",
    "# kNN 라이브러리 추가\n",
    "from sklearn.neighbors import KNeighborsClassifier\n",
    "from sklearn.model_selection import cross_val_score\n",
    "from sklearn.metrics import accuracy_score"
   ]
  },
  {
   "cell_type": "code",
   "execution_count": 4,
   "metadata": {
    "ExecuteTime": {
     "end_time": "2021-01-04T11:56:21.394758Z",
     "start_time": "2021-01-04T11:56:21.369706Z"
    }
   },
   "outputs": [
    {
     "data": {
      "text/html": [
       "<div>\n",
       "<style scoped>\n",
       "    .dataframe tbody tr th:only-of-type {\n",
       "        vertical-align: middle;\n",
       "    }\n",
       "\n",
       "    .dataframe tbody tr th {\n",
       "        vertical-align: top;\n",
       "    }\n",
       "\n",
       "    .dataframe thead th {\n",
       "        text-align: right;\n",
       "    }\n",
       "</style>\n",
       "<table border=\"1\" class=\"dataframe\">\n",
       "  <thead>\n",
       "    <tr style=\"text-align: right;\">\n",
       "      <th></th>\n",
       "      <th>Player</th>\n",
       "      <th>Pos</th>\n",
       "      <th>3P</th>\n",
       "      <th>2P</th>\n",
       "      <th>TRB</th>\n",
       "      <th>AST</th>\n",
       "      <th>STL</th>\n",
       "      <th>BLK</th>\n",
       "    </tr>\n",
       "  </thead>\n",
       "  <tbody>\n",
       "    <tr>\n",
       "      <th>0</th>\n",
       "      <td>Alex Abrines</td>\n",
       "      <td>SG</td>\n",
       "      <td>1.4</td>\n",
       "      <td>0.6</td>\n",
       "      <td>1.3</td>\n",
       "      <td>0.6</td>\n",
       "      <td>0.5</td>\n",
       "      <td>0.1</td>\n",
       "    </tr>\n",
       "    <tr>\n",
       "      <th>1</th>\n",
       "      <td>Steven Adams</td>\n",
       "      <td>C</td>\n",
       "      <td>0.0</td>\n",
       "      <td>4.7</td>\n",
       "      <td>7.7</td>\n",
       "      <td>1.1</td>\n",
       "      <td>1.1</td>\n",
       "      <td>1.0</td>\n",
       "    </tr>\n",
       "    <tr>\n",
       "      <th>2</th>\n",
       "      <td>Alexis Ajinca</td>\n",
       "      <td>C</td>\n",
       "      <td>0.0</td>\n",
       "      <td>2.3</td>\n",
       "      <td>4.5</td>\n",
       "      <td>0.3</td>\n",
       "      <td>0.5</td>\n",
       "      <td>0.6</td>\n",
       "    </tr>\n",
       "    <tr>\n",
       "      <th>3</th>\n",
       "      <td>Chris Andersen</td>\n",
       "      <td>C</td>\n",
       "      <td>0.0</td>\n",
       "      <td>0.8</td>\n",
       "      <td>2.6</td>\n",
       "      <td>0.4</td>\n",
       "      <td>0.4</td>\n",
       "      <td>0.6</td>\n",
       "    </tr>\n",
       "    <tr>\n",
       "      <th>4</th>\n",
       "      <td>Will Barton</td>\n",
       "      <td>SG</td>\n",
       "      <td>1.5</td>\n",
       "      <td>3.5</td>\n",
       "      <td>4.3</td>\n",
       "      <td>3.4</td>\n",
       "      <td>0.8</td>\n",
       "      <td>0.5</td>\n",
       "    </tr>\n",
       "  </tbody>\n",
       "</table>\n",
       "</div>"
      ],
      "text/plain": [
       "           Player Pos   3P   2P  TRB  AST  STL  BLK\n",
       "0    Alex Abrines  SG  1.4  0.6  1.3  0.6  0.5  0.1\n",
       "1    Steven Adams   C  0.0  4.7  7.7  1.1  1.1  1.0\n",
       "2   Alexis Ajinca   C  0.0  2.3  4.5  0.3  0.5  0.6\n",
       "3  Chris Andersen   C  0.0  0.8  2.6  0.4  0.4  0.6\n",
       "4     Will Barton  SG  1.5  3.5  4.3  3.4  0.8  0.5"
      ]
     },
     "execution_count": 4,
     "metadata": {},
     "output_type": "execute_result"
    }
   ],
   "source": [
    "# 데이터를 불러오고 샘플을 확인한다.\n",
    "df = pd.read_csv('data/basketball_stat.csv')\n",
    "df.head()"
   ]
  },
  {
   "cell_type": "code",
   "execution_count": 6,
   "metadata": {
    "ExecuteTime": {
     "end_time": "2021-01-04T07:47:32.550070Z",
     "start_time": "2021-01-04T07:47:32.522893Z"
    }
   },
   "outputs": [
    {
     "name": "stdout",
     "output_type": "stream",
     "text": [
      "<class 'pandas.core.frame.DataFrame'>\n",
      "RangeIndex: 100 entries, 0 to 99\n",
      "Data columns (total 8 columns):\n",
      " #   Column  Non-Null Count  Dtype  \n",
      "---  ------  --------------  -----  \n",
      " 0   Player  100 non-null    object \n",
      " 1   Pos     100 non-null    object \n",
      " 2   3P      100 non-null    float64\n",
      " 3   2P      100 non-null    float64\n",
      " 4   TRB     100 non-null    float64\n",
      " 5   AST     100 non-null    float64\n",
      " 6   STL     100 non-null    float64\n",
      " 7   BLK     100 non-null    float64\n",
      "dtypes: float64(6), object(2)\n",
      "memory usage: 6.4+ KB\n"
     ]
    }
   ],
   "source": [
    "# 데이터의 컬럼 확인하기\n",
    "df.info()"
   ]
  },
  {
   "cell_type": "markdown",
   "metadata": {},
   "source": [
    "컬럼 정보\n",
    "\n",
    "+ Player : 선수 이름\n",
    "+ Pos : 포지션\n",
    "+ 3P : 한 경기 평균 3점슛 성공 횟수\n",
    "+ 2P : 한 경기 평균 2점슛 성공 횟수\n",
    "+ TRB : 한 경기 평균 리바운드 성공 횟수\n",
    "+ AST : 한 경기 평균 어시스트 성공 횟수\n",
    "+ STL : 한 경기 평균 스틸 성공 횟수\n",
    "+ BLK : 한 경기 평균 블로킹 성공 횟수"
   ]
  },
  {
   "cell_type": "markdown",
   "metadata": {},
   "source": [
    "포지션의 정보는 Pos이므로 분류할 농구선수의 포지션이 무엇인지, 그리고 각 포지션별로 몇 개의 기존 데이터가 있는지 확인해보자"
   ]
  },
  {
   "cell_type": "code",
   "execution_count": 5,
   "metadata": {
    "ExecuteTime": {
     "end_time": "2021-01-04T11:56:31.593790Z",
     "start_time": "2021-01-04T11:56:31.575328Z"
    }
   },
   "outputs": [
    {
     "data": {
      "text/plain": [
       "C     50\n",
       "SG    50\n",
       "Name: Pos, dtype: int64"
      ]
     },
     "execution_count": 5,
     "metadata": {},
     "output_type": "execute_result"
    }
   ],
   "source": [
    "# 현재 데이터에서 포지션의 개수 확인해보기\n",
    "df['Pos'].value_counts()"
   ]
  },
  {
   "cell_type": "markdown",
   "metadata": {},
   "source": [
    "+ C : 센터\n",
    "+ SG : 슈팅 가드\n",
    "\n",
    "50개씩 두 개의 포지션이 있다."
   ]
  },
  {
   "cell_type": "markdown",
   "metadata": {},
   "source": [
    "## 데이터 시각화"
   ]
  },
  {
   "cell_type": "code",
   "execution_count": 6,
   "metadata": {
    "ExecuteTime": {
     "end_time": "2021-01-04T11:56:33.810414Z",
     "start_time": "2021-01-04T11:56:33.503429Z"
    }
   },
   "outputs": [
    {
     "data": {
      "image/png": "[encoded data removed]",
      "text/plain": [
       "<Figure size 406x360 with 1 Axes>"
      ]
     },
     "metadata": {
      "needs_background": "light"
     },
     "output_type": "display_data"
    }
   ],
   "source": [
    "# 스틸, 2점슛 데이터 시각화\n",
    "sns.lmplot('STL', '2P', data=df, fit_reg=False, # x축, y축, 데이터, 라인 제거\n",
    "           scatter_kws={'s':150}, # 좌표상 점의 크기\n",
    "           markers=['o', 'x'], # 마커의 모양\n",
    "           hue='Pos') # 예측값\n",
    "\n",
    "# 타이틀\n",
    "plt.title('STL and 2P in 2d plane')\n",
    "\n",
    "plt.show()"
   ]
  },
  {
   "cell_type": "code",
   "execution_count": 7,
   "metadata": {
    "ExecuteTime": {
     "end_time": "2021-01-04T11:56:36.070787Z",
     "start_time": "2021-01-04T11:56:35.783634Z"
    }
   },
   "outputs": [
    {
     "data": {
      "image/png": "[encoded data removed]",
      "text/plain": [
       "<Figure size 406x360 with 1 Axes>"
      ]
     },
     "metadata": {
      "needs_background": "light"
     },
     "output_type": "display_data"
    }
   ],
   "source": [
    "# 어시스트, 2점슛 데이터 시각화\n",
    "sns.lmplot('AST', '2P', data=df, fit_reg=False, # x축, y축, 데이터, 라인 제거\n",
    "           scatter_kws={'s':150}, # 좌표상 점의 크기\n",
    "           markers=['o', 'x'], # 마커의 모양\n",
    "           hue='Pos') # 예측값\n",
    "\n",
    "# 타이틀\n",
    "plt.title('AST and 2P in 2d plane')\n",
    "\n",
    "plt.show()"
   ]
  },
  {
   "cell_type": "markdown",
   "metadata": {},
   "source": [
    "2점슛, 어시스트, 스틸의 속성으로 데이터를 분포시킬 경우 가드와 센터의 경계가 너무 근접해서 분류하기에 모호하다."
   ]
  },
  {
   "cell_type": "markdown",
   "metadata": {},
   "source": [
    "블로킹과 3점슛 속성으로 시각화 해보기"
   ]
  },
  {
   "cell_type": "code",
   "execution_count": 8,
   "metadata": {
    "ExecuteTime": {
     "end_time": "2021-01-04T11:56:39.256081Z",
     "start_time": "2021-01-04T11:56:38.927868Z"
    }
   },
   "outputs": [
    {
     "data": {
      "image/png": "[encoded data removed]",
      "text/plain": [
       "<Figure size 406x360 with 1 Axes>"
      ]
     },
     "metadata": {
      "needs_background": "light"
     },
     "output_type": "display_data"
    }
   ],
   "source": [
    "# 블로킹, 3점슛 데이터 시각화\n",
    "sns.lmplot('BLK', '3P', data=df, fit_reg=False, # x축, y축, 데이터, 라인 제거\n",
    "           scatter_kws={'s':150}, # 좌표상 점의 크기\n",
    "           markers=['o', 'x'], # 마커의 모양\n",
    "           hue='Pos') # 예측값\n",
    "\n",
    "# 타이틀\n",
    "plt.title('BLK and 3P in 2d plane')\n",
    "\n",
    "plt.show()"
   ]
  },
  {
   "cell_type": "code",
   "execution_count": 9,
   "metadata": {
    "ExecuteTime": {
     "end_time": "2021-01-04T11:56:40.405399Z",
     "start_time": "2021-01-04T11:56:40.080371Z"
    }
   },
   "outputs": [
    {
     "data": {
      "image/png": "[encoded data removed]",
      "text/plain": [
       "<Figure size 406x360 with 1 Axes>"
      ]
     },
     "metadata": {
      "needs_background": "light"
     },
     "output_type": "display_data"
    }
   ],
   "source": [
    "# 리바운드, 3점슛 데이터 시각화\n",
    "sns.lmplot('TRB', '3P', data=df, fit_reg=False, # x축, y축, 데이터, 라인 제거\n",
    "           scatter_kws={'s':150}, # 좌표상 점의 크기\n",
    "           markers=['o', 'x'], # 마커의 모양\n",
    "           hue='Pos') # 예측값\n",
    "\n",
    "# 타이틀\n",
    "plt.title('BLK and 3P in 2d plane')\n",
    "\n",
    "plt.show()"
   ]
  },
  {
   "cell_type": "markdown",
   "metadata": {},
   "source": [
    "위에서와는 다르게 같은 분류끼리는 서로 근접해 있고, 다른 분류와는 멀리 떨어져 있는 것을 확인할 수 있다.\n",
    "\n",
    "시각화를 통해 데이터의 구분이 확실할 경우 선택된 속성들이 머신러닝 정확도에 큰 도움을 줄것이라고 생각할 수 있다."
   ]
  },
  {
   "cell_type": "markdown",
   "metadata": {},
   "source": [
    "## 데이터 다듬기\n",
    "\n",
    "위의 시각화를 이용한 분석을 통해 포지션을 구분해줄 수 있는 속성 외에 불필요한 속성은 삭제해준다.\n",
    "\n",
    "+ 필요\n",
    "    + 3P \n",
    "    + TRB\n",
    "    + BLK\n",
    "\n",
    "\n",
    "+ 불필요\n",
    "    + 2P\n",
    "    + AST\n",
    "    + STL"
   ]
  },
  {
   "cell_type": "code",
   "execution_count": 10,
   "metadata": {
    "ExecuteTime": {
     "end_time": "2021-01-04T11:56:42.990540Z",
     "start_time": "2021-01-04T11:56:42.960542Z"
    }
   },
   "outputs": [
    {
     "data": {
      "text/html": [
       "<div>\n",
       "<style scoped>\n",
       "    .dataframe tbody tr th:only-of-type {\n",
       "        vertical-align: middle;\n",
       "    }\n",
       "\n",
       "    .dataframe tbody tr th {\n",
       "        vertical-align: top;\n",
       "    }\n",
       "\n",
       "    .dataframe thead th {\n",
       "        text-align: right;\n",
       "    }\n",
       "</style>\n",
       "<table border=\"1\" class=\"dataframe\">\n",
       "  <thead>\n",
       "    <tr style=\"text-align: right;\">\n",
       "      <th></th>\n",
       "      <th>Player</th>\n",
       "      <th>Pos</th>\n",
       "      <th>3P</th>\n",
       "      <th>TRB</th>\n",
       "      <th>BLK</th>\n",
       "    </tr>\n",
       "  </thead>\n",
       "  <tbody>\n",
       "    <tr>\n",
       "      <th>0</th>\n",
       "      <td>Alex Abrines</td>\n",
       "      <td>SG</td>\n",
       "      <td>1.4</td>\n",
       "      <td>1.3</td>\n",
       "      <td>0.1</td>\n",
       "    </tr>\n",
       "    <tr>\n",
       "      <th>1</th>\n",
       "      <td>Steven Adams</td>\n",
       "      <td>C</td>\n",
       "      <td>0.0</td>\n",
       "      <td>7.7</td>\n",
       "      <td>1.0</td>\n",
       "    </tr>\n",
       "    <tr>\n",
       "      <th>2</th>\n",
       "      <td>Alexis Ajinca</td>\n",
       "      <td>C</td>\n",
       "      <td>0.0</td>\n",
       "      <td>4.5</td>\n",
       "      <td>0.6</td>\n",
       "    </tr>\n",
       "    <tr>\n",
       "      <th>3</th>\n",
       "      <td>Chris Andersen</td>\n",
       "      <td>C</td>\n",
       "      <td>0.0</td>\n",
       "      <td>2.6</td>\n",
       "      <td>0.6</td>\n",
       "    </tr>\n",
       "    <tr>\n",
       "      <th>4</th>\n",
       "      <td>Will Barton</td>\n",
       "      <td>SG</td>\n",
       "      <td>1.5</td>\n",
       "      <td>4.3</td>\n",
       "      <td>0.5</td>\n",
       "    </tr>\n",
       "  </tbody>\n",
       "</table>\n",
       "</div>"
      ],
      "text/plain": [
       "           Player Pos   3P  TRB  BLK\n",
       "0    Alex Abrines  SG  1.4  1.3  0.1\n",
       "1    Steven Adams   C  0.0  7.7  1.0\n",
       "2   Alexis Ajinca   C  0.0  4.5  0.6\n",
       "3  Chris Andersen   C  0.0  2.6  0.6\n",
       "4     Will Barton  SG  1.5  4.3  0.5"
      ]
     },
     "execution_count": 10,
     "metadata": {},
     "output_type": "execute_result"
    }
   ],
   "source": [
    "# 불필요한 속성 삭제하기\n",
    "df.drop(['2P', 'AST', 'STL'], axis=1, inplace=True)\n",
    "df.head()"
   ]
  },
  {
   "cell_type": "markdown",
   "metadata": {},
   "source": [
    "## 데이터 나누기\n",
    "\n",
    "머신러닝 모델을 학습할 데이터와 테스트할 데이터로 현재의 데이터를 나눈다.\n",
    "\n",
    "사이킷런의 train_test_split을 사용하면 간단하게 학습 데이터와 테스트 데이터로 나눌 수 있다."
   ]
  },
  {
   "cell_type": "code",
   "execution_count": 20,
   "metadata": {
    "ExecuteTime": {
     "end_time": "2021-01-04T11:57:18.839444Z",
     "start_time": "2021-01-04T11:57:18.830959Z"
    }
   },
   "outputs": [
    {
     "data": {
      "text/plain": [
       "(80, 20)"
      ]
     },
     "execution_count": 20,
     "metadata": {},
     "output_type": "execute_result"
    }
   ],
   "source": [
    "# 다듬어진 데이터에서 20%를 테스트 데이터로 분류한다.\n",
    "train, test = train_test_split(df, test_size=0.2)\n",
    "train.shape[0], test.shape[0]\n"
   ]
  },
  {
   "cell_type": "markdown",
   "metadata": {
    "ExecuteTime": {
     "end_time": "2021-01-04T09:57:04.421943Z",
     "start_time": "2021-01-04T09:57:04.396164Z"
    }
   },
   "source": [
    "80개의 학습 데이터를 사용해 20개 테스트 데이터의 포지션을 예측해보자."
   ]
  },
  {
   "cell_type": "markdown",
   "metadata": {},
   "source": [
    "## 최적의 kNN 파라미터 찾기\n",
    "\n",
    "+ kNN의 조절 가능한 변수는 오직 하나, 이웃의 개수(k)\n",
    "+ 교차 검증(cross validation)을 통해 최적의 k를 찾는다.\n",
    "+ 교차 검증은 k-fold 교차 검증이다.\n",
    "    - k-fold 교차 검증은 기존 데이터를 k개로 나눠서 k번 정확도를 검증하는 방법이다."
   ]
  },
  {
   "cell_type": "code",
   "execution_count": 21,
   "metadata": {
    "ExecuteTime": {
     "end_time": "2021-01-04T11:57:21.930113Z",
     "start_time": "2021-01-04T11:57:21.159505Z"
    }
   },
   "outputs": [
    {
     "data": {
      "text/plain": [
       "[0.9375,\n",
       " 0.9,\n",
       " 0.9125,\n",
       " 0.9125,\n",
       " 0.8875,\n",
       " 0.9,\n",
       " 0.9,\n",
       " 0.9,\n",
       " 0.9,\n",
       " 0.9,\n",
       " 0.9,\n",
       " 0.9,\n",
       " 0.875,\n",
       " 0.875,\n",
       " 0.85,\n",
       " 0.825,\n",
       " 0.8375,\n",
       " 0.825,\n",
       " 0.8125]"
      ]
     },
     "execution_count": 21,
     "metadata": {},
     "output_type": "execute_result"
    }
   ],
   "source": [
    "# 최적의 k를 찾기 위해 교차 검증을 수행할 k의 범위를 3부터 학습 데이터 절반까지 지정\n",
    "max_k_range = train.shape[0] // 2\n",
    "k_list = []\n",
    "for i in range(3, max_k_range, 2):\n",
    "    k_list.append(i)\n",
    "    \n",
    "cross_validation_scores = []\n",
    "x_train = train[['3P', 'BLK', 'TRB']]\n",
    "y_train = train[['Pos']]\n",
    "\n",
    "# 교차 검증(10-fold)을 각 k를 대상으로 수행해 검증 결과를 저장\n",
    "for k in k_list:\n",
    "    knn = KNeighborsClassifier(n_neighbors=k)\n",
    "    scores = cross_val_score(knn, x_train, y_train.values.ravel(), cv=10, scoring='accuracy')\n",
    "    cross_validation_scores.append(scores.mean())\n",
    "    \n",
    "cross_validation_scores"
   ]
  },
  {
   "cell_type": "markdown",
   "metadata": {},
   "source": [
    "시각화로 최적의 k 알아보기"
   ]
  },
  {
   "cell_type": "code",
   "execution_count": 22,
   "metadata": {
    "ExecuteTime": {
     "end_time": "2021-01-04T11:57:33.161921Z",
     "start_time": "2021-01-04T11:57:32.968569Z"
    }
   },
   "outputs": [
    {
     "data": {
      "image/png": "[encoded data removed]",
      "text/plain": [
       "<Figure size 720x432 with 1 Axes>"
      ]
     },
     "metadata": {
      "needs_background": "light"
     },
     "output_type": "display_data"
    }
   ],
   "source": [
    "# k에 따른 정확도를 시각화\n",
    "plt.figure(figsize=(10, 6))\n",
    "plt.plot(k_list, cross_validation_scores)\n",
    "plt.xlabel('the number of k')\n",
    "plt.ylabel('Accuracy')\n",
    "plt.grid()\n",
    "plt.show()"
   ]
  },
  {
   "cell_type": "markdown",
   "metadata": {},
   "source": [
    "시각화를 통해 최적의 k가 3인 것을 알 수 있다. 또 k가 25개를 넘어가면서 정확도가 많이 떨어진다."
   ]
  },
  {
   "cell_type": "code",
   "execution_count": 23,
   "metadata": {
    "ExecuteTime": {
     "end_time": "2021-01-04T11:57:38.477630Z",
     "start_time": "2021-01-04T11:57:38.465534Z"
    }
   },
   "outputs": [
    {
     "name": "stdout",
     "output_type": "stream",
     "text": [
      "The best number of k : 3\n"
     ]
    }
   ],
   "source": [
    "# 가장 예측율이 높은 k를 선정\n",
    "k = k_list[cross_validation_scores.index(max(cross_validation_scores))]\n",
    "print('The best number of k :', str(k))"
   ]
  },
  {
   "cell_type": "markdown",
   "metadata": {},
   "source": [
    "## 모델 테스트\n",
    "\n",
    "분별력이 있다고 판단된 3점슛, 블로킹, 리바운드라는 총 3개의 속성으로 kNN 모델을 학습해보자"
   ]
  },
  {
   "cell_type": "code",
   "execution_count": 24,
   "metadata": {
    "ExecuteTime": {
     "end_time": "2021-01-04T11:57:39.651721Z",
     "start_time": "2021-01-04T11:57:39.624270Z"
    }
   },
   "outputs": [
    {
     "name": "stdout",
     "output_type": "stream",
     "text": [
      "accuracy : 0.9\n"
     ]
    }
   ],
   "source": [
    "knn = KNeighborsClassifier(n_neighbors=3)\n",
    "\n",
    "# 학습에 사용될 속성을 지정\n",
    "x_train = train[['3P', 'BLK', 'TRB']]\n",
    "# 선수 포지션을 예측할 값으로 지정\n",
    "y_train = train[['Pos']]\n",
    "\n",
    "# kNN 모델 학습\n",
    "knn.fit(x_train, y_train.values.ravel())\n",
    "\n",
    "# 테스트 데이터에서 분류를 위해 사용될 속성을 지정\n",
    "x_test = test[['3P', 'BLK', 'TRB']]\n",
    "\n",
    "# 선수 포지션에 대한 정답을 지정\n",
    "y_test = test[['Pos']]\n",
    "\n",
    "# 테스트 시작\n",
    "pred = knn.predict(x_test)\n",
    "\n",
    "# 모델 예측 정확도(accuracy) 출력\n",
    "print('accuracy :', str(accuracy_score(y_test.values.ravel(), pred)))"
   ]
  },
  {
   "cell_type": "code",
   "execution_count": 25,
   "metadata": {
    "ExecuteTime": {
     "end_time": "2021-01-04T11:57:40.478825Z",
     "start_time": "2021-01-04T11:57:40.450943Z"
    }
   },
   "outputs": [
    {
     "data": {
      "text/html": [
       "<div>\n",
       "<style scoped>\n",
       "    .dataframe tbody tr th:only-of-type {\n",
       "        vertical-align: middle;\n",
       "    }\n",
       "\n",
       "    .dataframe tbody tr th {\n",
       "        vertical-align: top;\n",
       "    }\n",
       "\n",
       "    .dataframe thead th {\n",
       "        text-align: right;\n",
       "    }\n",
       "</style>\n",
       "<table border=\"1\" class=\"dataframe\">\n",
       "  <thead>\n",
       "    <tr style=\"text-align: right;\">\n",
       "      <th></th>\n",
       "      <th>prediction</th>\n",
       "      <th>ground_truth</th>\n",
       "    </tr>\n",
       "  </thead>\n",
       "  <tbody>\n",
       "    <tr>\n",
       "      <th>0</th>\n",
       "      <td>SG</td>\n",
       "      <td>SG</td>\n",
       "    </tr>\n",
       "    <tr>\n",
       "      <th>1</th>\n",
       "      <td>SG</td>\n",
       "      <td>SG</td>\n",
       "    </tr>\n",
       "    <tr>\n",
       "      <th>2</th>\n",
       "      <td>C</td>\n",
       "      <td>C</td>\n",
       "    </tr>\n",
       "    <tr>\n",
       "      <th>3</th>\n",
       "      <td>C</td>\n",
       "      <td>C</td>\n",
       "    </tr>\n",
       "    <tr>\n",
       "      <th>4</th>\n",
       "      <td>SG</td>\n",
       "      <td>SG</td>\n",
       "    </tr>\n",
       "    <tr>\n",
       "      <th>5</th>\n",
       "      <td>SG</td>\n",
       "      <td>C</td>\n",
       "    </tr>\n",
       "    <tr>\n",
       "      <th>6</th>\n",
       "      <td>C</td>\n",
       "      <td>C</td>\n",
       "    </tr>\n",
       "    <tr>\n",
       "      <th>7</th>\n",
       "      <td>SG</td>\n",
       "      <td>SG</td>\n",
       "    </tr>\n",
       "    <tr>\n",
       "      <th>8</th>\n",
       "      <td>SG</td>\n",
       "      <td>SG</td>\n",
       "    </tr>\n",
       "    <tr>\n",
       "      <th>9</th>\n",
       "      <td>SG</td>\n",
       "      <td>SG</td>\n",
       "    </tr>\n",
       "    <tr>\n",
       "      <th>10</th>\n",
       "      <td>SG</td>\n",
       "      <td>SG</td>\n",
       "    </tr>\n",
       "    <tr>\n",
       "      <th>11</th>\n",
       "      <td>SG</td>\n",
       "      <td>SG</td>\n",
       "    </tr>\n",
       "    <tr>\n",
       "      <th>12</th>\n",
       "      <td>SG</td>\n",
       "      <td>SG</td>\n",
       "    </tr>\n",
       "    <tr>\n",
       "      <th>13</th>\n",
       "      <td>C</td>\n",
       "      <td>C</td>\n",
       "    </tr>\n",
       "    <tr>\n",
       "      <th>14</th>\n",
       "      <td>SG</td>\n",
       "      <td>C</td>\n",
       "    </tr>\n",
       "    <tr>\n",
       "      <th>15</th>\n",
       "      <td>SG</td>\n",
       "      <td>SG</td>\n",
       "    </tr>\n",
       "    <tr>\n",
       "      <th>16</th>\n",
       "      <td>C</td>\n",
       "      <td>C</td>\n",
       "    </tr>\n",
       "    <tr>\n",
       "      <th>17</th>\n",
       "      <td>C</td>\n",
       "      <td>C</td>\n",
       "    </tr>\n",
       "    <tr>\n",
       "      <th>18</th>\n",
       "      <td>C</td>\n",
       "      <td>C</td>\n",
       "    </tr>\n",
       "    <tr>\n",
       "      <th>19</th>\n",
       "      <td>SG</td>\n",
       "      <td>SG</td>\n",
       "    </tr>\n",
       "  </tbody>\n",
       "</table>\n",
       "</div>"
      ],
      "text/plain": [
       "   prediction ground_truth\n",
       "0          SG           SG\n",
       "1          SG           SG\n",
       "2           C            C\n",
       "3           C            C\n",
       "4          SG           SG\n",
       "5          SG            C\n",
       "6           C            C\n",
       "7          SG           SG\n",
       "8          SG           SG\n",
       "9          SG           SG\n",
       "10         SG           SG\n",
       "11         SG           SG\n",
       "12         SG           SG\n",
       "13          C            C\n",
       "14         SG            C\n",
       "15         SG           SG\n",
       "16          C            C\n",
       "17          C            C\n",
       "18          C            C\n",
       "19         SG           SG"
      ]
     },
     "execution_count": 25,
     "metadata": {},
     "output_type": "execute_result"
    }
   ],
   "source": [
    "# 실제값과 예측된 값을 직접 눈으로 비교해보기\n",
    "comparison = pd.DataFrame({'prediction':pred, 'ground_truth':y_test.values.ravel()})\n",
    "comparison"
   ]
  },
  {
   "cell_type": "markdown",
   "metadata": {},
   "source": [
    "+ ground_truth : 실제값\n",
    "+ prediction : 예측값"
   ]
  },
  {
   "cell_type": "markdown",
   "metadata": {},
   "source": [
    "> 참고자료\n",
    "\n",
    "책 : 나의 첫 머신러닝 딥러닝"
   ]
  }
 ],
 "metadata": {
  "kernelspec": {
   "display_name": "Python 3",
   "language": "python",
   "name": "python3"
  },
  "language_info": {
   "codemirror_mode": {
    "name": "ipython",
    "version": 3
   },
   "file_extension": ".py",
   "mimetype": "text/x-python",
   "name": "python",
   "nbconvert_exporter": "python",
   "pygments_lexer": "ipython3",
   "version": "3.7.6"
  },
  "toc": {
   "base_numbering": 1,
   "nav_menu": {},
   "number_sections": true,
   "sideBar": true,
   "skip_h1_title": true,
   "title_cell": "Table of Contents",
   "title_sidebar": "Contents",
   "toc_cell": true,
   "toc_position": {},
   "toc_section_display": true,
   "toc_window_display": true
  }
 },
 "nbformat": 4,
 "nbformat_minor": 4
}
